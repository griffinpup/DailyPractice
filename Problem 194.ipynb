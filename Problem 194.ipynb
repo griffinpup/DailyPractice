{
 "cells": [
  {
   "cell_type": "markdown",
   "metadata": {},
   "source": [
    "Good morning! Here's your coding interview problem for today.\n",
    "\n",
    "This problem was asked by Facebook.\n",
    "\n",
    "Suppose you are given two lists of n points, one list p1, p2, ..., pn on the line y = 0 and the other list q1, q2, ..., qn on the line y = 1. Imagine a set of n line segments connecting each point pi to qi. Write an algorithm to determine how many pairs of the line segments intersect."
   ]
  },
  {
   "cell_type": "code",
   "execution_count": 17,
   "metadata": {},
   "outputs": [],
   "source": [
    "def count_intersections(l1, l2):\n",
    "    intersections = {}\n",
    "    print(intersections)\n",
    "    for x1 in l1:\n",
    "        for y1 in l2:\n",
    "            for x2 in l1:\n",
    "                for y2 in l2:\n",
    "                    if x1 == x2 or y1 == y2:\n",
    "                        continue\n",
    "                    if (x1 > x2 and y1 < y2) or (x1 < x2 and y1 > y2):\n",
    "                        if intersections.get((x1, y1)):\n",
    "                            intersections[(x1,y1)] += 1\n",
    "                        else:\n",
    "                            intersections[(x1,y1)] = 1\n",
    "    return intersections\n"
   ]
  },
  {
   "cell_type": "code",
   "execution_count": 18,
   "metadata": {},
   "outputs": [
    {
     "name": "stdout",
     "output_type": "stream",
     "text": [
      "{}\n",
      "{(1, 4): 4, (1, 5): 8, (1, 6): 12, (1, 7): 16, (2, 3): 4, (2, 4): 6, (2, 5): 8, (2, 6): 10, (2, 7): 12, (3, 3): 8, (3, 4): 8, (3, 5): 8, (3, 6): 8, (3, 7): 8, (4, 3): 12, (4, 4): 10, (4, 5): 8, (4, 6): 6, (4, 7): 4, (5, 3): 16, (5, 4): 12, (5, 5): 8, (5, 6): 4}\n"
     ]
    }
   ],
   "source": [
    "l1 = [1, 2, 3, 4, 5]\n",
    "l2 = [3, 4, 5, 6, 7]\n",
    "intersections = count_intersections(l1, l2)\n",
    "print(intersections)"
   ]
  },
  {
   "cell_type": "code",
   "execution_count": 19,
   "metadata": {},
   "outputs": [
    {
     "name": "stdout",
     "output_type": "stream",
     "text": [
      "((1, 4), 4)\n",
      "((1, 5), 8)\n",
      "((1, 6), 12)\n",
      "((1, 7), 16)\n",
      "((2, 3), 4)\n",
      "((2, 4), 6)\n",
      "((2, 5), 8)\n",
      "((2, 6), 10)\n",
      "((2, 7), 12)\n",
      "((3, 3), 8)\n",
      "((3, 4), 8)\n",
      "((3, 5), 8)\n",
      "((3, 6), 8)\n",
      "((3, 7), 8)\n",
      "((4, 3), 12)\n",
      "((4, 4), 10)\n",
      "((4, 5), 8)\n",
      "((4, 6), 6)\n",
      "((4, 7), 4)\n",
      "((5, 3), 16)\n",
      "((5, 4), 12)\n",
      "((5, 5), 8)\n",
      "((5, 6), 4)\n"
     ]
    }
   ],
   "source": [
    "for item in intersections.items():\n",
    "    print(item)"
   ]
  },
  {
   "cell_type": "code",
   "execution_count": null,
   "metadata": {},
   "outputs": [],
   "source": []
  }
 ],
 "metadata": {
  "kernelspec": {
   "display_name": "Python 3",
   "language": "python",
   "name": "python3"
  },
  "language_info": {
   "codemirror_mode": {
    "name": "ipython",
    "version": 3
   },
   "file_extension": ".py",
   "mimetype": "text/x-python",
   "name": "python",
   "nbconvert_exporter": "python",
   "pygments_lexer": "ipython3",
   "version": "3.7.0"
  }
 },
 "nbformat": 4,
 "nbformat_minor": 2
}
