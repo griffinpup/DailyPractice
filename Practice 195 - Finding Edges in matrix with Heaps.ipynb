{
 "cells": [
  {
   "cell_type": "markdown",
   "metadata": {},
   "source": [
    "Good morning! Here's your coding interview problem for today.\n",
    "\n",
    "This problem was asked by Google.\n",
    "\n",
    "Let A be an N by M matrix in which every row and every column is sorted.\n",
    "\n",
    "Given i1, j1, i2, and j2, compute the number of elements of M smaller than M[i1, j1] and larger than M[i2, j2].\n",
    "\n",
    "For example, given the following matrix:\n",
    "    \n",
    " [[1, 3, 7, 10, 15, 20],\n",
    " [2, 6, 9, 14, 22, 25],\n",
    " [3, 8, 10, 15, 25, 30],\n",
    " [10, 11, 12, 23, 30, 35],\n",
    " [20, 25, 30, 35, 40, 45]]\n",
    "\n",
    "And i1 = 1, j1 = 1, i2 = 3, j2 = 3, return 15 as there are 15 (14?) numbers in the matrix smaller than 6 or greater than 23."
   ]
  },
  {
   "cell_type": "code",
   "execution_count": 89,
   "metadata": {},
   "outputs": [],
   "source": [
    "#Get access to heap\n",
    "import heapq\n",
    "\n",
    "#Test array\n",
    "arr =  [[1, 3, 7, 10, 15, 20],\n",
    " [2, 6, 9, 14, 22, 25],\n",
    " [3, 8, 10, 15, 25, 30],\n",
    " [10, 11, 12, 23, 30, 35],\n",
    " [20, 25, 30, 35, 40, 45]]\n",
    "\n",
    "#Initial processing, then kicks off the search algorithm\n",
    "def get_nums_excluding_range(arr, i1, j1, i2, j2):\n",
    "    min_num = arr[i1][j1]\n",
    "    max_num = arr[i2][j2]\n",
    "    #return count_matches(arr, min_num, max_num)\n",
    "    potential_matches = []\n",
    "    heapq.heappush(potential_matches, (i1, j1))\n",
    "    low_matches = explore_low_matches(potential_matches, min_num)\n",
    "    \n",
    "    potential_matches = []\n",
    "\n",
    "    heapq.heappush(potential_matches, (i2, j2))\n",
    "    high_matches = explore_high_matches(potential_matches, max_num)\n",
    "    return low_matches + high_matches\n",
    "\n",
    "#Only explores the edges, and calculates the area\n",
    "def explore_low_matches(potentials, min_num):\n",
    "    visited = {}\n",
    "    total_matches = 0\n",
    "    while potentials:\n",
    "        coords = heapq.heappop(potentials)\n",
    "        visited[coords] = True\n",
    "        val = arr[coords[0]][coords[1]]\n",
    "        new_coords = []\n",
    "        if val < min_num:\n",
    "            new_coords = [ \n",
    "                          (coords[0], coords[1] - 1), \n",
    "                          (coords[0], coords[1] + 1), \n",
    "                          (coords[0] + 1, coords[1])]\n",
    "        else:\n",
    "            new_coords = [(coords[0] - 1, coords[1]), \n",
    "                          (coords[0], coords[1] - 1)]\n",
    "            total_matches += coords[1]\n",
    "        \n",
    "        #Adds all the new coords\n",
    "        for idx, new_coord in enumerate(new_coords):\n",
    "                if new_coord[0] < 0 or new_coord[1] < 0 or new_coord[0] > len(arr) or new_coord[1] > len(arr[0]) or visited.get(new_coord):\n",
    "                    continue\n",
    "                visited[new_coord] = True\n",
    "                heapq.heappush(potentials, new_coord)\n",
    "    return total_matches\n",
    "\n",
    "#Explores the whole area\n",
    "def explore_high_matches(potentials, max_num):\n",
    "    visited = {}\n",
    "    total_matches = 0\n",
    "    while potentials:\n",
    "        coords = heapq.heappop(potentials)\n",
    "        visited[coords] = True\n",
    "        val = arr[coords[0]][coords[1]]\n",
    "        new_coords = []\n",
    "        if val > max_num:\n",
    "            total_matches += 1\n",
    "            new_coords = [(coords[0] - 1, coords[1]), \n",
    "                          (coords[0], coords[1] - 1), \n",
    "                          (coords[0], coords[1] + 1), \n",
    "                          (coords[0] + 1, coords[1])]\n",
    "        else:\n",
    "            new_coords = [(coords[0] + 1, coords[1]), \n",
    "                          (coords[0], coords[1] + 1)]\n",
    "        \n",
    "        #Adds all the new coords\n",
    "        for idx, new_coord in enumerate(new_coords):\n",
    "                if new_coord[0] < 0 or new_coord[1] < 0 or new_coord[0] > len(arr)-1 or new_coord[1] > len(arr[0])-1 or visited.get(new_coord):\n",
    "                    continue\n",
    "                visited[new_coord] = True\n",
    "                heapq.heappush(potentials, new_coord)\n",
    "    return total_matches\n",
    "\n",
    "#Naively searches the whole space\n",
    "def count_matches(arr, min_num, max_num):\n",
    "    total_matches = 0\n",
    "    for i in range(len(arr)):\n",
    "        for j in range(len(arr[i])):\n",
    "            if arr[i][j] < min_num or arr[i][j] > max_num:\n",
    "                total_matches += 1\n",
    "    return total_matches\n",
    "        "
   ]
  },
  {
   "cell_type": "code",
   "execution_count": 90,
   "metadata": {},
   "outputs": [
    {
     "data": {
      "text/plain": [
       "14"
      ]
     },
     "execution_count": 90,
     "metadata": {},
     "output_type": "execute_result"
    }
   ],
   "source": [
    "get_nums_excluding_range(arr, 1, 1, 3, 3)"
   ]
  }
 ],
 "metadata": {
  "kernelspec": {
   "display_name": "Python 3",
   "language": "python",
   "name": "python3"
  },
  "language_info": {
   "codemirror_mode": {
    "name": "ipython",
    "version": 3
   },
   "file_extension": ".py",
   "mimetype": "text/x-python",
   "name": "python",
   "nbconvert_exporter": "python",
   "pygments_lexer": "ipython3",
   "version": "3.7.0"
  }
 },
 "nbformat": 4,
 "nbformat_minor": 2
}
