{
 "cells": [
  {
   "cell_type": "markdown",
   "metadata": {},
   "source": [
    "This problem was asked by Apple.\n",
    "\n",
    "Given the root of a binary tree, find the most frequent subtree sum. The subtree sum of a node is the sum of all values under a node, including the node itself.\n",
    "\n",
    "For example, given the following tree:\n",
    "     5\n",
    "   /   \\ \n",
    "  2    -5\n",
    "  \n",
    "Return 2 as it occurs twice: once as the left leaf, and once as the sum of 2 + 5 - 5."
   ]
  },
  {
   "cell_type": "code",
   "execution_count": 32,
   "metadata": {},
   "outputs": [],
   "source": [
    "class Node():\n",
    "    def __init__(self, value, left, right):\n",
    "        self.value = value\n",
    "        self.left = left\n",
    "        self.right = right\n",
    "    def traverse_node(self):\n",
    "        print(self.value)\n",
    "        if self.left:\n",
    "            self.left.traverse_node()\n",
    "        if self.right:\n",
    "            self.right.traverse_node()\n",
    "    #If you wanted to not implement it recursively, you'd use a stack, but the same logic. \n",
    "    #Simply push nodes on in the order they'd be visited recursively, and you're golden. \n",
    "    def get_common_subtree_sum(self):\n",
    "        sums = {}\n",
    "        self._get_common_subtree_sum(sums)\n",
    "        most_common_instance = 0\n",
    "        most_common_value = 0\n",
    "        for item in sums.items():\n",
    "            if item[1] > most_common_instance:\n",
    "                most_common_instance = item[1]\n",
    "                most_common_value = item[0]\n",
    "        return most_common_value\n",
    "    #Returns the sum of the tree with self node as root\n",
    "    def _get_common_subtree_sum(self, sums):\n",
    "        tree_sum = self.value\n",
    "        if self.left:\n",
    "            tree_sum += self.left._get_common_subtree_sum(sums)\n",
    "        if self.right:\n",
    "            tree_sum += self.right._get_common_subtree_sum(sums)\n",
    "            if sums.get(tree_sum):\n",
    "                sums[tree_sum] += 1\n",
    "            else:\n",
    "                sums[tree_sum] = 1\n",
    "        return tree_sum\n",
    "        "
   ]
  },
  {
   "cell_type": "code",
   "execution_count": 33,
   "metadata": {},
   "outputs": [
    {
     "name": "stdout",
     "output_type": "stream",
     "text": [
      "-5\n",
      "-5\n",
      "5\n"
     ]
    }
   ],
   "source": [
    "left_node = Node(-5, None, None)\n",
    "right_node = Node(-5, None, None)\n",
    "example_root = Node(5, left_node, right_node)\n",
    "print(example_root.left.value)\n",
    "print(example_root.right.value)\n",
    "print(example_root.value)"
   ]
  },
  {
   "cell_type": "code",
   "execution_count": 34,
   "metadata": {},
   "outputs": [
    {
     "data": {
      "text/plain": [
       "-5"
      ]
     },
     "execution_count": 34,
     "metadata": {},
     "output_type": "execute_result"
    }
   ],
   "source": [
    "example_root.get_common_subtree_sum()"
   ]
  },
  {
   "cell_type": "code",
   "execution_count": null,
   "metadata": {},
   "outputs": [],
   "source": []
  }
 ],
 "metadata": {
  "kernelspec": {
   "display_name": "Python 3",
   "language": "python",
   "name": "python3"
  },
  "language_info": {
   "codemirror_mode": {
    "name": "ipython",
    "version": 3
   },
   "file_extension": ".py",
   "mimetype": "text/x-python",
   "name": "python",
   "nbconvert_exporter": "python",
   "pygments_lexer": "ipython3",
   "version": "3.7.0"
  }
 },
 "nbformat": 4,
 "nbformat_minor": 2
}
